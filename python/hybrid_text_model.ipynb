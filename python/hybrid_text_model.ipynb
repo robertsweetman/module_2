{
 "cells": [
  {
   "cell_type": "markdown",
   "metadata": {},
   "source": [
    "# Hybrid text-and-metadata model\n",
    "\n",
    "This notebook blends the strongest baseline from **`baseline_text_models.ipynb`**  \n",
    "(title TF-IDF + Logistic Regression) with the engineered metadata columns that\n",
    "were used in **`etenders.ipynb`**.\n",
    "\n",
    "* 5-fold stratified cross-validation for a fair comparison  \n",
    "* Calibrated probabilities so every model exposes `predict_proba`  \n",
    "* Automatic threshold search to hit a configurable recall target"
   ]
  },
  {
   "cell_type": "code",
   "execution_count": 1,
   "metadata": {},
   "outputs": [],
   "source": [
    "import os\n",
    "import numpy as np\n",
    "import pandas as pd\n",
    "import seaborn as sns\n",
    "import matplotlib.pyplot as plt\n",
    "\n",
    "from sklearn.compose import ColumnTransformer\n",
    "from sklearn.feature_extraction.text import TfidfVectorizer\n",
    "from sklearn.linear_model import LogisticRegression\n",
    "from sklearn.metrics import (\n",
    "    precision_recall_curve,\n",
    "    classification_report,\n",
    "    ConfusionMatrixDisplay,\n",
    ")\n",
    "from sklearn.model_selection import StratifiedKFold, cross_val_predict\n",
    "from sklearn.pipeline import Pipeline\n",
    "from sklearn.preprocessing import OneHotEncoder, StandardScaler\n",
    "from sklearn.calibration import CalibratedClassifierCV\n",
    "\n",
    "# project helper\n",
    "from prepare_data import load_clean_dataframe  # type: ignore\n",
    "\n",
    "\n",
    "def threshold_for_recall(scores, y_true, recall_target=0.85):\n",
    "    \"\"\"Return the highest threshold that still achieves recall ≥ target.\"\"\"\n",
    "    prec, rec, thr = precision_recall_curve(y_true, scores)\n",
    "    candidates = [t for r, t in zip(rec[:-1], thr) if r >= recall_target]\n",
    "    return max(candidates) if candidates else thr.min()"
   ]
  },
  {
   "cell_type": "code",
   "execution_count": 2,
   "metadata": {},
   "outputs": [
    {
     "name": "stderr",
     "output_type": "stream",
     "text": [
      "/mnt/c/Users/rober/GitHub/module_2/python/prepare_data.py:46: FutureWarning: A value is trying to be set on a copy of a DataFrame or Series through chained assignment using an inplace method.\n",
      "The behavior will change in pandas 3.0. This inplace method will never work because the intermediate object on which we are setting values always behaves as a copy.\n",
      "\n",
      "For example, when doing 'df[col].method(value, inplace=True)', try using 'df.method({col: value}, inplace=True)' or df[col] = df[col].method(value) instead, to perform the operation inplace on the original object.\n",
      "\n",
      "\n",
      "  df[\"ca\"].fillna(\"\", inplace=True)\n",
      "/mnt/c/Users/rober/GitHub/module_2/python/prepare_data.py:47: FutureWarning: A value is trying to be set on a copy of a DataFrame or Series through chained assignment using an inplace method.\n",
      "The behavior will change in pandas 3.0. This inplace method will never work because the intermediate object on which we are setting values always behaves as a copy.\n",
      "\n",
      "For example, when doing 'df[col].method(value, inplace=True)', try using 'df.method({col: value}, inplace=True)' or df[col] = df[col].method(value) instead, to perform the operation inplace on the original object.\n",
      "\n",
      "\n",
      "  df[\"procedure\"].fillna(\"\", inplace=True)\n",
      "/mnt/c/Users/rober/GitHub/module_2/python/prepare_data.py:49: FutureWarning: A value is trying to be set on a copy of a DataFrame or Series through chained assignment using an inplace method.\n",
      "The behavior will change in pandas 3.0. This inplace method will never work because the intermediate object on which we are setting values always behaves as a copy.\n",
      "\n",
      "For example, when doing 'df[col].method(value, inplace=True)', try using 'df.method({col: value}, inplace=True)' or df[col] = df[col].method(value) instead, to perform the operation inplace on the original object.\n",
      "\n",
      "\n",
      "  df[\"pdf_url\"].fillna(\"\", inplace=True)\n"
     ]
    }
   ],
   "source": [
    "df = load_clean_dataframe(labelled_only=True)\n",
    "\n",
    "# Minimal examples of the extra features from *etenders.ipynb*\n",
    "df[\"title_len\"] = df[\"title\"].str.len()\n",
    "df[\"contains_date\"] = df[\"title\"].str.contains(r\"\\b20\\d{2}\\b\", regex=True).astype(int)\n",
    "# ➜ add more flags / numeric columns here to match the full notebook\n",
    "\n",
    "df[\"has_pdf\"] = df[\"pdf_url\"].notna() & df[\"pdf_url\"].str.strip().ne(\"\")\n",
    "df[\"has_pdf\"] = df[\"has_pdf\"].astype(int)\n",
    "\n",
    "text_col = \"title\"\n",
    "cat_cols = [\"ca\", \"procedure\"]\n",
    "num_cols = [\"has_pdf\"]\n",
    "\n",
    "y = df[\"bid\"].astype(int).values\n",
    "X = df.drop(columns=[\"bid\"])"
   ]
  },
  {
   "cell_type": "code",
   "execution_count": 8,
   "metadata": {},
   "outputs": [],
   "source": [
    "preprocess = ColumnTransformer(\n",
    "    transformers=[\n",
    "        (\n",
    "            \"tfidf\",\n",
    "            TfidfVectorizer(\n",
    "                ngram_range=(1, 2),\n",
    "                min_df=3,\n",
    "                max_features=40_000,\n",
    "                strip_accents=\"unicode\",\n",
    "                lowercase=True,\n",
    "            ),\n",
    "            text_col,\n",
    "        ),\n",
    "        (\"cat\", OneHotEncoder(handle_unknown=\"ignore\"), cat_cols),\n",
    "        (\"num\", StandardScaler(), num_cols),\n",
    "    ]\n",
    ")\n",
    "\n",
    "base_clf = LogisticRegression(\n",
    "    max_iter=400,\n",
    "    class_weight=\"balanced\",\n",
    "    solver=\"lbfgs\",\n",
    "    n_jobs=-1,\n",
    ")\n",
    "\n",
    "pipe = Pipeline([(\"prep\", preprocess), (\"clf\", base_clf)])\n",
    "calibrated = CalibratedClassifierCV(pipe, cv=3, method=\"sigmoid\")"
   ]
  },
  {
   "cell_type": "code",
   "execution_count": 9,
   "metadata": {},
   "outputs": [
    {
     "name": "stdout",
     "output_type": "stream",
     "text": [
      "Chosen threshold to hit recall ≥0.85  →  0.049\n",
      "              precision    recall  f1-score   support\n",
      "\n",
      "           0      0.985     0.695     0.815      1955\n",
      "           1      0.166     0.856     0.278       139\n",
      "\n",
      "    accuracy                          0.705      2094\n",
      "   macro avg      0.576     0.775     0.547      2094\n",
      "weighted avg      0.931     0.705     0.779      2094\n",
      "\n"
     ]
    },
    {
     "data": {
      "image/png": "[encoded data removed]",
      "text/plain": [
       "<Figure size 640x480 with 2 Axes>"
      ]
     },
     "metadata": {},
     "output_type": "display_data"
    }
   ],
   "source": [
    "cv = StratifiedKFold(n_splits=5, shuffle=True, random_state=42)\n",
    "\n",
    "proba = cross_val_predict(\n",
    "    calibrated, X, y, cv=cv, method=\"predict_proba\", n_jobs=-1\n",
    ")[:, 1]\n",
    "\n",
    "thr = threshold_for_recall(proba, y, recall_target=0.85)\n",
    "print(f\"Chosen threshold to hit recall ≥0.85  →  {thr:.3f}\")\n",
    "\n",
    "y_pred = (proba >= thr).astype(int)\n",
    "\n",
    "print(classification_report(y, y_pred, digits=3))\n",
    "ConfusionMatrixDisplay.from_predictions(\n",
    "    y, y_pred, display_labels=[\"No-bid\", \"Bid\"], cmap=\"Blues\"\n",
    ")\n",
    "plt.show()"
   ]
  },
  {
   "cell_type": "code",
   "execution_count": 13,
   "metadata": {},
   "outputs": [],
   "source": [
    "from sklearn.model_selection import train_test_split\n",
    "\n",
    "X_train, X_test, y_train, y_test = train_test_split(\n",
    "    X, y, test_size=0.20, stratify=y, random_state=42\n",
    ")\n",
    "\n",
    "calibrated.fit(X_train, y_train)          # 1️⃣ train once\n",
    "proba = calibrated.predict_proba(X_test)[:, 1]   # 2️⃣ scores for *test* only"
   ]
  },
  {
   "cell_type": "code",
   "execution_count": 16,
   "metadata": {},
   "outputs": [
    {
     "name": "stdout",
     "output_type": "stream",
     "text": [
      "threshold = 0.046\n",
      "recall = 0.9285714285714286\n"
     ]
    },
    {
     "data": {
      "text/plain": [
       "<sklearn.metrics._plot.confusion_matrix.ConfusionMatrixDisplay at 0xffc7081c1820>"
      ]
     },
     "execution_count": 16,
     "metadata": {},
     "output_type": "execute_result"
    },
    {
     "data": {
      "image/png": "[encoded data removed]",
      "text/plain": [
       "<Figure size 640x480 with 2 Axes>"
      ]
     },
     "metadata": {},
     "output_type": "display_data"
    }
   ],
   "source": [
    "from sklearn.metrics import recall_score, ConfusionMatrixDisplay\n",
    "\n",
    "# choose the highest threshold that still reaches the recall you need\n",
    "thr = threshold_for_recall(proba, y_test, recall_target=0.90)   # ← e.g. 90 % recall\n",
    "print(f\"threshold = {thr:0.3f}\")\n",
    "\n",
    "y_pred = (proba >= thr).astype(int)\n",
    "\n",
    "print(\"recall =\", recall_score(y_test, y_pred))\n",
    "ConfusionMatrixDisplay.from_predictions(y_test, y_pred,\n",
    "                                        display_labels=[\"No-bid\", \"Bid\"],\n",
    "                                        cmap=\"Blues\")"
   ]
  }
 ],
 "metadata": {
  "kernelspec": {
   "display_name": "Python 3 (ipykernel)",
   "language": "python",
   "name": "python3"
  },
  "language_info": {
   "codemirror_mode": {
    "name": "ipython",
    "version": 3
   },
   "file_extension": ".py",
   "mimetype": "text/x-python",
   "name": "python",
   "nbconvert_exporter": "python",
   "pygments_lexer": "ipython3",
   "version": "3.12.3"
  }
 },
 "nbformat": 4,
 "nbformat_minor": 2
}
